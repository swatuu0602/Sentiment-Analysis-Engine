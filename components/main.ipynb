{
 "cells": [
  {
   "cell_type": "code",
   "execution_count": 1,
   "metadata": {},
   "outputs": [
    {
     "name": "stdout",
     "output_type": "stream",
     "text": [
      "Requirement already satisfied: streamlit in /home/swatita-dash/Desktop/sentiment_analysis_model/myvenv/lib/python3.12/site-packages (1.40.0)\n",
      "Requirement already satisfied: altair<6,>=4.0 in /home/swatita-dash/Desktop/sentiment_analysis_model/myvenv/lib/python3.12/site-packages (from streamlit) (5.4.1)\n",
      "Requirement already satisfied: blinker<2,>=1.0.0 in /home/swatita-dash/Desktop/sentiment_analysis_model/myvenv/lib/python3.12/site-packages (from streamlit) (1.9.0)\n",
      "Requirement already satisfied: cachetools<6,>=4.0 in /home/swatita-dash/Desktop/sentiment_analysis_model/myvenv/lib/python3.12/site-packages (from streamlit) (5.5.0)\n",
      "Requirement already satisfied: click<9,>=7.0 in /home/swatita-dash/Desktop/sentiment_analysis_model/myvenv/lib/python3.12/site-packages (from streamlit) (8.1.7)\n",
      "Requirement already satisfied: numpy<3,>=1.20 in /home/swatita-dash/Desktop/sentiment_analysis_model/myvenv/lib/python3.12/site-packages (from streamlit) (2.1.3)\n",
      "Requirement already satisfied: packaging<25,>=20 in /home/swatita-dash/Desktop/sentiment_analysis_model/myvenv/lib/python3.12/site-packages (from streamlit) (24.2)\n",
      "Requirement already satisfied: pandas<3,>=1.4.0 in /home/swatita-dash/Desktop/sentiment_analysis_model/myvenv/lib/python3.12/site-packages (from streamlit) (2.2.3)\n",
      "Requirement already satisfied: pillow<12,>=7.1.0 in /home/swatita-dash/Desktop/sentiment_analysis_model/myvenv/lib/python3.12/site-packages (from streamlit) (11.0.0)\n",
      "Requirement already satisfied: protobuf<6,>=3.20 in /home/swatita-dash/Desktop/sentiment_analysis_model/myvenv/lib/python3.12/site-packages (from streamlit) (5.28.3)\n",
      "Requirement already satisfied: pyarrow>=7.0 in /home/swatita-dash/Desktop/sentiment_analysis_model/myvenv/lib/python3.12/site-packages (from streamlit) (18.0.0)\n",
      "Requirement already satisfied: requests<3,>=2.27 in /home/swatita-dash/Desktop/sentiment_analysis_model/myvenv/lib/python3.12/site-packages (from streamlit) (2.32.3)\n",
      "Requirement already satisfied: rich<14,>=10.14.0 in /home/swatita-dash/Desktop/sentiment_analysis_model/myvenv/lib/python3.12/site-packages (from streamlit) (13.9.4)\n",
      "Requirement already satisfied: tenacity<10,>=8.1.0 in /home/swatita-dash/Desktop/sentiment_analysis_model/myvenv/lib/python3.12/site-packages (from streamlit) (9.0.0)\n",
      "Requirement already satisfied: toml<2,>=0.10.1 in /home/swatita-dash/Desktop/sentiment_analysis_model/myvenv/lib/python3.12/site-packages (from streamlit) (0.10.2)\n",
      "Requirement already satisfied: typing-extensions<5,>=4.3.0 in /home/swatita-dash/Desktop/sentiment_analysis_model/myvenv/lib/python3.12/site-packages (from streamlit) (4.12.2)\n",
      "Requirement already satisfied: gitpython!=3.1.19,<4,>=3.0.7 in /home/swatita-dash/Desktop/sentiment_analysis_model/myvenv/lib/python3.12/site-packages (from streamlit) (3.1.43)\n",
      "Requirement already satisfied: pydeck<1,>=0.8.0b4 in /home/swatita-dash/Desktop/sentiment_analysis_model/myvenv/lib/python3.12/site-packages (from streamlit) (0.9.1)\n",
      "Requirement already satisfied: tornado<7,>=6.0.3 in /home/swatita-dash/Desktop/sentiment_analysis_model/myvenv/lib/python3.12/site-packages (from streamlit) (6.4.1)\n",
      "Requirement already satisfied: watchdog<6,>=2.1.5 in /home/swatita-dash/Desktop/sentiment_analysis_model/myvenv/lib/python3.12/site-packages (from streamlit) (5.0.3)\n",
      "Requirement already satisfied: jinja2 in /home/swatita-dash/Desktop/sentiment_analysis_model/myvenv/lib/python3.12/site-packages (from altair<6,>=4.0->streamlit) (3.1.4)\n",
      "Requirement already satisfied: jsonschema>=3.0 in /home/swatita-dash/Desktop/sentiment_analysis_model/myvenv/lib/python3.12/site-packages (from altair<6,>=4.0->streamlit) (4.23.0)\n",
      "Requirement already satisfied: narwhals>=1.5.2 in /home/swatita-dash/Desktop/sentiment_analysis_model/myvenv/lib/python3.12/site-packages (from altair<6,>=4.0->streamlit) (1.13.3)\n",
      "Requirement already satisfied: gitdb<5,>=4.0.1 in /home/swatita-dash/Desktop/sentiment_analysis_model/myvenv/lib/python3.12/site-packages (from gitpython!=3.1.19,<4,>=3.0.7->streamlit) (4.0.11)\n",
      "Requirement already satisfied: python-dateutil>=2.8.2 in /home/swatita-dash/Desktop/sentiment_analysis_model/myvenv/lib/python3.12/site-packages (from pandas<3,>=1.4.0->streamlit) (2.9.0.post0)\n",
      "Requirement already satisfied: pytz>=2020.1 in /home/swatita-dash/Desktop/sentiment_analysis_model/myvenv/lib/python3.12/site-packages (from pandas<3,>=1.4.0->streamlit) (2024.2)\n",
      "Requirement already satisfied: tzdata>=2022.7 in /home/swatita-dash/Desktop/sentiment_analysis_model/myvenv/lib/python3.12/site-packages (from pandas<3,>=1.4.0->streamlit) (2024.2)\n",
      "Requirement already satisfied: charset-normalizer<4,>=2 in /home/swatita-dash/Desktop/sentiment_analysis_model/myvenv/lib/python3.12/site-packages (from requests<3,>=2.27->streamlit) (3.4.0)\n",
      "Requirement already satisfied: idna<4,>=2.5 in /home/swatita-dash/Desktop/sentiment_analysis_model/myvenv/lib/python3.12/site-packages (from requests<3,>=2.27->streamlit) (3.10)\n",
      "Requirement already satisfied: urllib3<3,>=1.21.1 in /home/swatita-dash/Desktop/sentiment_analysis_model/myvenv/lib/python3.12/site-packages (from requests<3,>=2.27->streamlit) (2.2.3)\n",
      "Requirement already satisfied: certifi>=2017.4.17 in /home/swatita-dash/Desktop/sentiment_analysis_model/myvenv/lib/python3.12/site-packages (from requests<3,>=2.27->streamlit) (2024.8.30)\n",
      "Requirement already satisfied: markdown-it-py>=2.2.0 in /home/swatita-dash/Desktop/sentiment_analysis_model/myvenv/lib/python3.12/site-packages (from rich<14,>=10.14.0->streamlit) (3.0.0)\n",
      "Requirement already satisfied: pygments<3.0.0,>=2.13.0 in /home/swatita-dash/Desktop/sentiment_analysis_model/myvenv/lib/python3.12/site-packages (from rich<14,>=10.14.0->streamlit) (2.18.0)\n",
      "Requirement already satisfied: smmap<6,>=3.0.1 in /home/swatita-dash/Desktop/sentiment_analysis_model/myvenv/lib/python3.12/site-packages (from gitdb<5,>=4.0.1->gitpython!=3.1.19,<4,>=3.0.7->streamlit) (5.0.1)\n",
      "Requirement already satisfied: MarkupSafe>=2.0 in /home/swatita-dash/Desktop/sentiment_analysis_model/myvenv/lib/python3.12/site-packages (from jinja2->altair<6,>=4.0->streamlit) (3.0.2)\n",
      "Requirement already satisfied: attrs>=22.2.0 in /home/swatita-dash/Desktop/sentiment_analysis_model/myvenv/lib/python3.12/site-packages (from jsonschema>=3.0->altair<6,>=4.0->streamlit) (24.2.0)\n",
      "Requirement already satisfied: jsonschema-specifications>=2023.03.6 in /home/swatita-dash/Desktop/sentiment_analysis_model/myvenv/lib/python3.12/site-packages (from jsonschema>=3.0->altair<6,>=4.0->streamlit) (2024.10.1)\n",
      "Requirement already satisfied: referencing>=0.28.4 in /home/swatita-dash/Desktop/sentiment_analysis_model/myvenv/lib/python3.12/site-packages (from jsonschema>=3.0->altair<6,>=4.0->streamlit) (0.35.1)\n",
      "Requirement already satisfied: rpds-py>=0.7.1 in /home/swatita-dash/Desktop/sentiment_analysis_model/myvenv/lib/python3.12/site-packages (from jsonschema>=3.0->altair<6,>=4.0->streamlit) (0.21.0)\n",
      "Requirement already satisfied: mdurl~=0.1 in /home/swatita-dash/Desktop/sentiment_analysis_model/myvenv/lib/python3.12/site-packages (from markdown-it-py>=2.2.0->rich<14,>=10.14.0->streamlit) (0.1.2)\n",
      "Requirement already satisfied: six>=1.5 in /home/swatita-dash/Desktop/sentiment_analysis_model/myvenv/lib/python3.12/site-packages (from python-dateutil>=2.8.2->pandas<3,>=1.4.0->streamlit) (1.16.0)\n",
      "Note: you may need to restart the kernel to use updated packages.\n",
      "Requirement already satisfied: nltk in /home/swatita-dash/Desktop/sentiment_analysis_model/myvenv/lib/python3.12/site-packages (3.9.1)\n",
      "Requirement already satisfied: joblib in /home/swatita-dash/Desktop/sentiment_analysis_model/myvenv/lib/python3.12/site-packages (1.4.2)\n",
      "Requirement already satisfied: click in /home/swatita-dash/Desktop/sentiment_analysis_model/myvenv/lib/python3.12/site-packages (from nltk) (8.1.7)\n",
      "Requirement already satisfied: regex>=2021.8.3 in /home/swatita-dash/Desktop/sentiment_analysis_model/myvenv/lib/python3.12/site-packages (from nltk) (2024.11.6)\n",
      "Requirement already satisfied: tqdm in /home/swatita-dash/Desktop/sentiment_analysis_model/myvenv/lib/python3.12/site-packages (from nltk) (4.67.0)\n",
      "Note: you may need to restart the kernel to use updated packages.\n"
     ]
    }
   ],
   "source": [
    "%pip install streamlit\n",
    "%pip install  nltk joblib"
   ]
  },
  {
   "cell_type": "code",
   "execution_count": 2,
   "metadata": {},
   "outputs": [
    {
     "name": "stderr",
     "output_type": "stream",
     "text": [
      "[nltk_data] Downloading package stopwords to /home/swatita-\n",
      "[nltk_data]     dash/nltk_data...\n",
      "[nltk_data]   Package stopwords is already up-to-date!\n"
     ]
    },
    {
     "data": {
      "text/plain": [
       "True"
      ]
     },
     "execution_count": 2,
     "metadata": {},
     "output_type": "execute_result"
    }
   ],
   "source": [
    "import streamlit as st\n",
    "import joblib\n",
    "import re\n",
    "import nltk\n",
    "from nltk.corpus import stopwords\n",
    "from nltk.stem import PorterStemmer\n",
    "\n",
    "# Download stopwords from NLTK\n",
    "nltk.download('stopwords')"
   ]
  },
  {
   "cell_type": "code",
   "execution_count": 3,
   "metadata": {},
   "outputs": [],
   "source": [
    "# Function for text preprocessing\n",
    "def preprocess_text(text):\n",
    "    text = re.sub(r'http\\S+', '', text)  # Remove URLs\n",
    "    text = re.sub(r'[^a-zA-Z\\s]', '', text)  # Remove punctuation\n",
    "    text is text.lower()  # Convert to lowercase\n",
    "    text = text.split()  # Split into words\n",
    "    ps = PorterStemmer()\n",
    "    text = [ps.stem(word) for word in text if not word in set(stopwords.words('english'))]  # Remove stopwords and perform stemming\n",
    "    text = ' '.join(text)\n",
    "    return text"
   ]
  },
  {
   "cell_type": "code",
   "execution_count": 4,
   "metadata": {},
   "outputs": [
    {
     "name": "stdout",
     "output_type": "stream",
     "text": [
      "Requirement already satisfied: vectorizer in /home/swatita-dash/Desktop/sentiment_analysis_model/myvenv/lib/python3.12/site-packages (0.3.0)\n",
      "Note: you may need to restart the kernel to use updated packages.\n"
     ]
    }
   ],
   "source": [
    "%pip install vectorizer"
   ]
  },
  {
   "cell_type": "code",
   "execution_count": 5,
   "metadata": {},
   "outputs": [
    {
     "name": "stderr",
     "output_type": "stream",
     "text": [
      "/home/swatita-dash/Desktop/sentiment_analysis_model/myvenv/lib/python3.12/site-packages/sklearn/base.py:376: InconsistentVersionWarning: Trying to unpickle estimator TfidfTransformer from version 1.4.2 when using version 1.5.2. This might lead to breaking code or invalid results. Use at your own risk. For more info please refer to:\n",
      "https://scikit-learn.org/stable/model_persistence.html#security-maintainability-limitations\n",
      "  warnings.warn(\n",
      "/home/swatita-dash/Desktop/sentiment_analysis_model/myvenv/lib/python3.12/site-packages/sklearn/base.py:376: InconsistentVersionWarning: Trying to unpickle estimator TfidfVectorizer from version 1.4.2 when using version 1.5.2. This might lead to breaking code or invalid results. Use at your own risk. For more info please refer to:\n",
      "https://scikit-learn.org/stable/model_persistence.html#security-maintainability-limitations\n",
      "  warnings.warn(\n",
      "/home/swatita-dash/Desktop/sentiment_analysis_model/myvenv/lib/python3.12/site-packages/sklearn/base.py:376: InconsistentVersionWarning: Trying to unpickle estimator MultinomialNB from version 1.4.2 when using version 1.5.2. This might lead to breaking code or invalid results. Use at your own risk. For more info please refer to:\n",
      "https://scikit-learn.org/stable/model_persistence.html#security-maintainability-limitations\n",
      "  warnings.warn(\n",
      "/home/swatita-dash/Desktop/sentiment_analysis_model/myvenv/lib/python3.12/site-packages/sklearn/base.py:376: InconsistentVersionWarning: Trying to unpickle estimator SVC from version 1.4.2 when using version 1.5.2. This might lead to breaking code or invalid results. Use at your own risk. For more info please refer to:\n",
      "https://scikit-learn.org/stable/model_persistence.html#security-maintainability-limitations\n",
      "  warnings.warn(\n",
      "/home/swatita-dash/Desktop/sentiment_analysis_model/myvenv/lib/python3.12/site-packages/sklearn/base.py:376: InconsistentVersionWarning: Trying to unpickle estimator LogisticRegression from version 1.4.2 when using version 1.5.2. This might lead to breaking code or invalid results. Use at your own risk. For more info please refer to:\n",
      "https://scikit-learn.org/stable/model_persistence.html#security-maintainability-limitations\n",
      "  warnings.warn(\n"
     ]
    }
   ],
   "source": [
    "\n",
    "\n",
    "vectorizer = joblib.load('/home/swatita-dash/Desktop/sentiment_analysis_model/tfidf_vectorizer.pkl')\n",
    "nb_model = joblib.load('/home/swatita-dash/Desktop/sentiment_analysis_model/naive_bayes_model.pkl')\n",
    "svm_model = joblib.load('/home/swatita-dash/Desktop/sentiment_analysis_model/svm_model.pkl')\n",
    "lr_model = joblib.load('/home/swatita-dash/Desktop/sentiment_analysis_model/logistic_regression_model.pkl')"
   ]
  },
  {
   "cell_type": "code",
   "execution_count": 6,
   "metadata": {},
   "outputs": [
    {
     "name": "stderr",
     "output_type": "stream",
     "text": [
      "2024-11-09 13:44:11.404 WARNING streamlit.runtime.scriptrunner_utils.script_run_context: Thread 'MainThread': missing ScriptRunContext! This warning can be ignored when running in bare mode.\n",
      "2024-11-09 13:44:11.666 \n",
      "  \u001b[33m\u001b[1mWarning:\u001b[0m to view this Streamlit app on a browser, run it with the following\n",
      "  command:\n",
      "\n",
      "    streamlit run /home/swatita-dash/Desktop/sentiment_analysis_model/myvenv/lib/python3.12/site-packages/ipykernel_launcher.py [ARGUMENTS]\n",
      "2024-11-09 13:44:11.667 Thread 'MainThread': missing ScriptRunContext! This warning can be ignored when running in bare mode.\n",
      "2024-11-09 13:44:11.668 Thread 'MainThread': missing ScriptRunContext! This warning can be ignored when running in bare mode.\n",
      "2024-11-09 13:44:11.668 Thread 'MainThread': missing ScriptRunContext! This warning can be ignored when running in bare mode.\n",
      "2024-11-09 13:44:11.668 Thread 'MainThread': missing ScriptRunContext! This warning can be ignored when running in bare mode.\n",
      "2024-11-09 13:44:11.669 Thread 'MainThread': missing ScriptRunContext! This warning can be ignored when running in bare mode.\n",
      "2024-11-09 13:44:11.669 Thread 'MainThread': missing ScriptRunContext! This warning can be ignored when running in bare mode.\n",
      "2024-11-09 13:44:11.670 Thread 'MainThread': missing ScriptRunContext! This warning can be ignored when running in bare mode.\n",
      "2024-11-09 13:44:11.671 Thread 'MainThread': missing ScriptRunContext! This warning can be ignored when running in bare mode.\n",
      "2024-11-09 13:44:11.671 Thread 'MainThread': missing ScriptRunContext! This warning can be ignored when running in bare mode.\n",
      "2024-11-09 13:44:11.672 Session state does not function when running a script without `streamlit run`\n",
      "2024-11-09 13:44:11.673 Thread 'MainThread': missing ScriptRunContext! This warning can be ignored when running in bare mode.\n",
      "2024-11-09 13:44:11.673 Thread 'MainThread': missing ScriptRunContext! This warning can be ignored when running in bare mode.\n",
      "2024-11-09 13:44:11.674 Thread 'MainThread': missing ScriptRunContext! This warning can be ignored when running in bare mode.\n",
      "2024-11-09 13:44:11.674 Thread 'MainThread': missing ScriptRunContext! This warning can be ignored when running in bare mode.\n",
      "2024-11-09 13:44:11.675 Thread 'MainThread': missing ScriptRunContext! This warning can be ignored when running in bare mode.\n",
      "2024-11-09 13:44:11.675 Thread 'MainThread': missing ScriptRunContext! This warning can be ignored when running in bare mode.\n",
      "2024-11-09 13:44:11.676 Thread 'MainThread': missing ScriptRunContext! This warning can be ignored when running in bare mode.\n",
      "2024-11-09 13:44:11.677 Thread 'MainThread': missing ScriptRunContext! This warning can be ignored when running in bare mode.\n",
      "2024-11-09 13:44:11.677 Thread 'MainThread': missing ScriptRunContext! This warning can be ignored when running in bare mode.\n",
      "2024-11-09 13:44:11.678 Thread 'MainThread': missing ScriptRunContext! This warning can be ignored when running in bare mode.\n",
      "2024-11-09 13:44:11.678 Thread 'MainThread': missing ScriptRunContext! This warning can be ignored when running in bare mode.\n",
      "2024-11-09 13:44:11.679 Thread 'MainThread': missing ScriptRunContext! This warning can be ignored when running in bare mode.\n",
      "2024-11-09 13:44:11.679 Thread 'MainThread': missing ScriptRunContext! This warning can be ignored when running in bare mode.\n",
      "2024-11-09 13:44:11.680 Thread 'MainThread': missing ScriptRunContext! This warning can be ignored when running in bare mode.\n",
      "2024-11-09 13:44:11.681 Thread 'MainThread': missing ScriptRunContext! This warning can be ignored when running in bare mode.\n",
      "2024-11-09 13:44:11.681 Thread 'MainThread': missing ScriptRunContext! This warning can be ignored when running in bare mode.\n",
      "2024-11-09 13:44:11.683 Thread 'MainThread': missing ScriptRunContext! This warning can be ignored when running in bare mode.\n",
      "2024-11-09 13:44:11.683 Thread 'MainThread': missing ScriptRunContext! This warning can be ignored when running in bare mode.\n",
      "2024-11-09 13:44:11.684 Thread 'MainThread': missing ScriptRunContext! This warning can be ignored when running in bare mode.\n",
      "2024-11-09 13:44:11.685 Thread 'MainThread': missing ScriptRunContext! This warning can be ignored when running in bare mode.\n",
      "2024-11-09 13:44:11.685 Thread 'MainThread': missing ScriptRunContext! This warning can be ignored when running in bare mode.\n",
      "2024-11-09 13:44:11.686 Thread 'MainThread': missing ScriptRunContext! This warning can be ignored when running in bare mode.\n",
      "2024-11-09 13:44:11.687 Thread 'MainThread': missing ScriptRunContext! This warning can be ignored when running in bare mode.\n",
      "2024-11-09 13:44:11.687 Thread 'MainThread': missing ScriptRunContext! This warning can be ignored when running in bare mode.\n",
      "2024-11-09 13:44:11.689 Thread 'MainThread': missing ScriptRunContext! This warning can be ignored when running in bare mode.\n",
      "2024-11-09 13:44:11.690 Thread 'MainThread': missing ScriptRunContext! This warning can be ignored when running in bare mode.\n"
     ]
    }
   ],
   "source": [
    "# App title\n",
    "st.title(\"Twitter Sentiment Analysis App\")\n",
    "st.write(\"Enter the text you want to analyze for sentiment:\")\n",
    "\n",
    "# User input text\n",
    "input_text = st.text_area(\"Input text here\")\n",
    "\n",
    "# Model selection\n",
    "st.write(\"Select models for sentiment analysis:\")\n",
    "use_nb = st.checkbox('Naive Bayes')\n",
    "use_svm = st.checkbox('SVM')\n",
    "use_lr = st.checkbox('Logistic Regression')\n",
    "\n",
    "if st.button(\"Analyze\"):\n",
    "    if not input_text:\n",
    "        st.write(\"Please enter the text for analysis.\")\n",
    "    elif not (use_nb or use_svm or use_lr):\n",
    "        st.write(\"Please select at least one model for analysis.\")\n",
    "    else:\n",
    "        # Process the input text\n",
    "        input_text_processed = preprocess_text(input_text)\n",
    "        input_text_vect = vectorizer.transform([input_text_processed])\n",
    "        \n",
    "        st.write(f\"**Input Text:** {input_text}\")\n",
    "        \n",
    "        # Prediction using Naive Bayes\n",
    "        if use_nb:\n",
    "            nb_prediction = nb_model.predict(input_text_vect)[0]\n",
    "            nb_prob = nb_model.predict_proba(input_text_vect)[0]\n",
    "            st.write(f\"**Naive Bayes Prediction:** {'Positive' if nb_prediction == 1 else 'Negative'} (Confidence: {nb_prob[nb_prediction]:.2f})\")\n",
    "        \n",
    "        # Prediction using SVM\n",
    "        if use_svm:\n",
    "            svm_prediction = svm_model.predict(input_text_vect)[0]\n",
    "            st.write(f\"**SVM Prediction:** {'Positive' if svm_prediction == 1 else 'Negative'}\")\n",
    "        \n",
    "        # Prediction using Logistic Regression\n",
    "        if use_lr:\n",
    "            lr_prediction = lr_model.predict(input_text_vect)[0]\n",
    "            lr_prob = lr_model.predict_proba(input_text_vect)[0]\n",
    "            st.write(f\"**Logistic Regression Prediction:** {'Positive' if lr_prediction == 1 else 'Negative'} (Confidence: {lr_prob[lr_prediction]:.2f})\")\n"
   ]
  },
  {
   "cell_type": "code",
   "execution_count": null,
   "metadata": {},
   "outputs": [],
   "source": []
  },
  {
   "cell_type": "code",
   "execution_count": null,
   "metadata": {},
   "outputs": [],
   "source": []
  }
 ],
 "metadata": {
  "kernelspec": {
   "display_name": "myvenv",
   "language": "python",
   "name": "python3"
  },
  "language_info": {
   "codemirror_mode": {
    "name": "ipython",
    "version": 3
   },
   "file_extension": ".py",
   "mimetype": "text/x-python",
   "name": "python",
   "nbconvert_exporter": "python",
   "pygments_lexer": "ipython3",
   "version": "3.12.3"
  }
 },
 "nbformat": 4,
 "nbformat_minor": 2
}
